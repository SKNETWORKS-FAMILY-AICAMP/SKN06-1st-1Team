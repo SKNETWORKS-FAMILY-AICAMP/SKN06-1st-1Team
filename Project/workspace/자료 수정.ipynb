{
 "cells": [
  {
   "cell_type": "code",
   "execution_count": 6,
   "metadata": {},
   "outputs": [],
   "source": [
    "import pandas as pd"
   ]
  },
  {
   "cell_type": "markdown",
   "metadata": {},
   "source": [
    "## 자료 확인"
   ]
  },
  {
   "cell_type": "code",
   "execution_count": 5,
   "metadata": {},
   "outputs": [],
   "source": [
    "# 불러오기\n",
    "\n",
    "# df = pd.read_excel(r\"C:\\Project\\data\\(재수정) 친환경 연료 차량_연도별.xlsx\")\n",
    "# df2 = pd.read_excel(r\"C:\\Project\\data\\(원본) 연료별 등록 차량 대수_연도별.xlsx\")\n",
    "# df3 = pd.read_excel(r\"C:\\Project\\data\\자동차등록현황보고 (2018 ~ 2023) 승용차기준(수정).xlsx\")\n",
    "df4 = pd.read_csv(r\"C:\\Project\\data\\hydrogen_car.csv\")"
   ]
  },
  {
   "cell_type": "code",
   "execution_count": 6,
   "metadata": {},
   "outputs": [
    {
     "data": {
      "text/html": [
       "<div>\n",
       "<style scoped>\n",
       "    .dataframe tbody tr th:only-of-type {\n",
       "        vertical-align: middle;\n",
       "    }\n",
       "\n",
       "    .dataframe tbody tr th {\n",
       "        vertical-align: top;\n",
       "    }\n",
       "\n",
       "    .dataframe thead th {\n",
       "        text-align: right;\n",
       "    }\n",
       "</style>\n",
       "<table border=\"1\" class=\"dataframe\">\n",
       "  <thead>\n",
       "    <tr style=\"text-align: right;\">\n",
       "      <th></th>\n",
       "      <th>증가량</th>\n",
       "      <th>계</th>\n",
       "      <th>년도</th>\n",
       "    </tr>\n",
       "  </thead>\n",
       "  <tbody>\n",
       "    <tr>\n",
       "      <th>0</th>\n",
       "      <td>NaN</td>\n",
       "      <td>893</td>\n",
       "      <td>2018</td>\n",
       "    </tr>\n",
       "    <tr>\n",
       "      <th>1</th>\n",
       "      <td>4190.0</td>\n",
       "      <td>5083</td>\n",
       "      <td>2019</td>\n",
       "    </tr>\n",
       "    <tr>\n",
       "      <th>2</th>\n",
       "      <td>5823.0</td>\n",
       "      <td>10906</td>\n",
       "      <td>2020</td>\n",
       "    </tr>\n",
       "    <tr>\n",
       "      <th>3</th>\n",
       "      <td>8498.0</td>\n",
       "      <td>19404</td>\n",
       "      <td>2021</td>\n",
       "    </tr>\n",
       "    <tr>\n",
       "      <th>4</th>\n",
       "      <td>10219.0</td>\n",
       "      <td>29623</td>\n",
       "      <td>2022</td>\n",
       "    </tr>\n",
       "    <tr>\n",
       "      <th>5</th>\n",
       "      <td>4635.0</td>\n",
       "      <td>34258</td>\n",
       "      <td>2023</td>\n",
       "    </tr>\n",
       "  </tbody>\n",
       "</table>\n",
       "</div>"
      ],
      "text/plain": [
       "       증가량      계    년도\n",
       "0      NaN    893  2018\n",
       "1   4190.0   5083  2019\n",
       "2   5823.0  10906  2020\n",
       "3   8498.0  19404  2021\n",
       "4  10219.0  29623  2022\n",
       "5   4635.0  34258  2023"
      ]
     },
     "execution_count": 6,
     "metadata": {},
     "output_type": "execute_result"
    }
   ],
   "source": [
    "df4"
   ]
  },
  {
   "cell_type": "markdown",
   "metadata": {},
   "source": [
    "## 수정하기"
   ]
  },
  {
   "cell_type": "code",
   "execution_count": 21,
   "metadata": {},
   "outputs": [],
   "source": [
    "df.drop(columns=['Unnamed: 0'], inplace=True)"
   ]
  },
  {
   "cell_type": "code",
   "execution_count": 24,
   "metadata": {},
   "outputs": [
    {
     "data": {
      "text/html": [
       "<div>\n",
       "<style scoped>\n",
       "    .dataframe tbody tr th:only-of-type {\n",
       "        vertical-align: middle;\n",
       "    }\n",
       "\n",
       "    .dataframe tbody tr th {\n",
       "        vertical-align: top;\n",
       "    }\n",
       "\n",
       "    .dataframe thead th {\n",
       "        text-align: right;\n",
       "    }\n",
       "</style>\n",
       "<table border=\"1\" class=\"dataframe\">\n",
       "  <thead>\n",
       "    <tr style=\"text-align: right;\">\n",
       "      <th></th>\n",
       "      <th>Unnamed: 1</th>\n",
       "      <th>Unnamed: 2</th>\n",
       "      <th>Unnamed: 3</th>\n",
       "      <th>Unnamed: 4</th>\n",
       "      <th>Unnamed: 5</th>\n",
       "      <th>Unnamed: 6</th>\n",
       "      <th>Unnamed: 7</th>\n",
       "      <th>Unnamed: 8</th>\n",
       "    </tr>\n",
       "  </thead>\n",
       "  <tbody>\n",
       "    <tr>\n",
       "      <th>0</th>\n",
       "      <td>NaN</td>\n",
       "      <td>2018</td>\n",
       "      <td>2019</td>\n",
       "      <td>2020</td>\n",
       "      <td>2021</td>\n",
       "      <td>2022</td>\n",
       "      <td>2023</td>\n",
       "      <td>2024</td>\n",
       "    </tr>\n",
       "    <tr>\n",
       "      <th>1</th>\n",
       "      <td>전기</td>\n",
       "      <td>46038</td>\n",
       "      <td>80902</td>\n",
       "      <td>124409</td>\n",
       "      <td>201520</td>\n",
       "      <td>347395</td>\n",
       "      <td>501485</td>\n",
       "      <td>647446</td>\n",
       "    </tr>\n",
       "    <tr>\n",
       "      <th>2</th>\n",
       "      <td>천연가스</td>\n",
       "      <td>2094485</td>\n",
       "      <td>2045369</td>\n",
       "      <td>2028853</td>\n",
       "      <td>1989786</td>\n",
       "      <td>1950764</td>\n",
       "      <td>1879088</td>\n",
       "      <td>1878220</td>\n",
       "    </tr>\n",
       "    <tr>\n",
       "      <th>3</th>\n",
       "      <td>하이브리드</td>\n",
       "      <td>374666</td>\n",
       "      <td>476478</td>\n",
       "      <td>612577</td>\n",
       "      <td>844563</td>\n",
       "      <td>1103642</td>\n",
       "      <td>1434619</td>\n",
       "      <td>1878615</td>\n",
       "    </tr>\n",
       "    <tr>\n",
       "      <th>4</th>\n",
       "      <td>수소</td>\n",
       "      <td>466</td>\n",
       "      <td>3436</td>\n",
       "      <td>9494</td>\n",
       "      <td>17076</td>\n",
       "      <td>26719</td>\n",
       "      <td>33501</td>\n",
       "      <td>36979</td>\n",
       "    </tr>\n",
       "    <tr>\n",
       "      <th>5</th>\n",
       "      <td>기타</td>\n",
       "      <td>2</td>\n",
       "      <td>2</td>\n",
       "      <td>1</td>\n",
       "      <td>2</td>\n",
       "      <td>5</td>\n",
       "      <td>4</td>\n",
       "      <td>2</td>\n",
       "    </tr>\n",
       "    <tr>\n",
       "      <th>6</th>\n",
       "      <td>합계</td>\n",
       "      <td>2515657</td>\n",
       "      <td>2876185</td>\n",
       "      <td>2775334</td>\n",
       "      <td>3052947</td>\n",
       "      <td>3428525</td>\n",
       "      <td>3848697</td>\n",
       "      <td>4441262</td>\n",
       "    </tr>\n",
       "  </tbody>\n",
       "</table>\n",
       "</div>"
      ],
      "text/plain": [
       "  Unnamed: 1  Unnamed: 2  Unnamed: 3  Unnamed: 4  Unnamed: 5  Unnamed: 6  \\\n",
       "0        NaN        2018        2019        2020        2021        2022   \n",
       "1         전기       46038       80902      124409      201520      347395   \n",
       "2       천연가스     2094485     2045369     2028853     1989786     1950764   \n",
       "3      하이브리드      374666      476478      612577      844563     1103642   \n",
       "4         수소         466        3436        9494       17076       26719   \n",
       "5         기타           2           2           1           2           5   \n",
       "6         합계     2515657     2876185     2775334     3052947     3428525   \n",
       "\n",
       "   Unnamed: 7  Unnamed: 8  \n",
       "0        2023        2024  \n",
       "1      501485      647446  \n",
       "2     1879088     1878220  \n",
       "3     1434619     1878615  \n",
       "4       33501       36979  \n",
       "5           4           2  \n",
       "6     3848697     4441262  "
      ]
     },
     "execution_count": 24,
     "metadata": {},
     "output_type": "execute_result"
    }
   ],
   "source": [
    "df"
   ]
  },
  {
   "cell_type": "markdown",
   "metadata": {},
   "source": [
    "## 저장하기"
   ]
  },
  {
   "cell_type": "code",
   "execution_count": 26,
   "metadata": {},
   "outputs": [],
   "source": [
    "# CSV 파일로 저장\n",
    "df3.to_csv(r\"C:\\Project\\source\\자동차등록현황보고 (2018 ~ 2023) 승용차기준(수정).csv\", index=False, encoding='utf-8-sig')\n"
   ]
  },
  {
   "cell_type": "code",
   "execution_count": 27,
   "metadata": {},
   "outputs": [],
   "source": [
    "df.to_csv(r\"C:\\Project\\source\\(재수정) 친환경 연료 차량_연도별.csv\", index=False, encoding='utf-8-sig')"
   ]
  },
  {
   "cell_type": "code",
   "execution_count": 30,
   "metadata": {},
   "outputs": [],
   "source": [
    "df2.to_csv(r\"C:\\Project\\source\\(원본) 연료별 등록 차량 대수_연도별.csv\", index=False, encoding='utf-8-sig')"
   ]
  }
 ],
 "metadata": {
  "kernelspec": {
   "display_name": "PROJECT",
   "language": "python",
   "name": "python3"
  },
  "language_info": {
   "codemirror_mode": {
    "name": "ipython",
    "version": 3
   },
   "file_extension": ".py",
   "mimetype": "text/x-python",
   "name": "python",
   "nbconvert_exporter": "python",
   "pygments_lexer": "ipython3",
   "version": "3.13.0"
  }
 },
 "nbformat": 4,
 "nbformat_minor": 2
}

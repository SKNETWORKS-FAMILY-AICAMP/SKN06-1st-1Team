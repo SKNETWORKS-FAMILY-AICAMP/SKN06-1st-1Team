{
 "cells": [
  {
   "cell_type": "markdown",
   "id": "3d308b9c",
   "metadata": {},
   "source": [
    "## 데이터 불러오기"
   ]
  },
  {
   "cell_type": "code",
   "execution_count": 4,
   "id": "25de547d",
   "metadata": {
    "scrolled": true
   },
   "outputs": [
    {
     "ename": "SyntaxError",
     "evalue": "invalid syntax (882206333.py, line 16)",
     "output_type": "error",
     "traceback": [
      "\u001b[1;36m  Cell \u001b[1;32mIn[4], line 16\u001b[1;36m\u001b[0m\n\u001b[1;33m    sql_query =\u001b[0m\n\u001b[1;37m                 ^\u001b[0m\n\u001b[1;31mSyntaxError\u001b[0m\u001b[1;31m:\u001b[0m invalid syntax\n"
     ]
    }
   ],
   "source": [
    "import pymysql\n",
    "\n",
    "# Establish the connection to the MySQL database\n",
    "connection = pymysql.connect(\n",
    "    host=\"127.0.0.1\",    # MySQL host\n",
    "    user=\"scott\",  # MySQL user\n",
    "    password=\"tiger\",  # MySQL password\n",
    "    db=\"Project\",  # MySQL database to connect to\n",
    "    charset='utf8mb4',   # Charset for encoding\n",
    "    cursorclass=pymysql.cursors.DictCursor  # To return rows as dictionaries\n",
    ")\n",
    "\n",
    "try:\n",
    "    with connection.cursor() as cursor:\n",
    "        # Example query: Retrieving data from a table\n",
    "        sql_query =  \n",
    "        cursor.execute(sql_query)\n",
    "        result = cursor.fetchall()\n",
    "        for row in result:\n",
    "            print(row)\n",
    "finally:\n",
    "    connection.close()  # Make sure to close the connection\n"
   ]
  },
  {
   "cell_type": "markdown",
   "id": "59b4e786",
   "metadata": {},
   "source": [
    "## DML\n",
    "\n",
    "### insert\n"
   ]
  },
  {
   "cell_type": "code",
   "execution_count": 31,
   "id": "61deab37",
   "metadata": {},
   "outputs": [],
   "source": [
    "sql = \"INSERT INTO test (증가량, 계, 년도) VALUES (NULL, 17663188, 2018);\""
   ]
  },
  {
   "cell_type": "code",
   "execution_count": 32,
   "id": "c78ebebd",
   "metadata": {},
   "outputs": [
    {
     "name": "stdout",
     "output_type": "stream",
     "text": [
      "처리 행수: 1\n"
     ]
    }
   ],
   "source": [
    "# connection, cursor 생성 -> with 문으로 작성.\n",
    "# manual commit 이 default. \n",
    "##  DML(insert/update/delete) 처리 후 commit을 실행해야한다.\n",
    "with pymysql.connect(host=\"127.0.0.1\", port=3306, user=\"scott\", password=\"tiger\", db=\"Project\") as conn:\n",
    "    with conn.cursor() as cursor:\n",
    "        result = cursor.execute(sql)\n",
    "        print(\"처리 행수:\", result)\n",
    "        # commit 처리\n",
    "        conn.commit()"
   ]
  },
  {
   "cell_type": "markdown",
   "id": "c1d9de83",
   "metadata": {
    "ExecuteTime": {
     "end_time": "2022-04-19T06:23:30.323879Z",
     "start_time": "2022-04-19T06:23:30.304888Z"
    }
   },
   "source": [
    "### Parameterized Query"
   ]
  },
  {
   "cell_type": "code",
   "execution_count": 34,
   "id": "85b23241-9ea0-4d76-8ce4-1502e5d2c49f",
   "metadata": {
    "scrolled": true
   },
   "outputs": [
    {
     "name": "stdout",
     "output_type": "stream",
     "text": [
      "처리 행수: 1\n"
     ]
    }
   ],
   "source": [
    "import pymysql\n",
    "\n",
    "# insert할 값 입력받기\n",
    "증가량 = input(\"증가량:\")\n",
    "계 = input(\"계: \")\n",
    "년도 = input('년도: ')\n",
    "\n",
    "# SQL 실행\n",
    "insert_sql = \"insert into test (증가량, 계, 년도) values (%s, %s, %s)\"\n",
    "\n",
    "with pymysql.connect(host=\"127.0.0.1\", port=3306, user='scott', password='tiger', db='Project') as conn:\n",
    "    with conn.cursor() as cursor:\n",
    "        result = cursor.execute(insert_sql, [증가량, 계, 년도])\n",
    "        conn.commit()\n",
    "        print(\"처리 행수:\", result)"
   ]
  },
  {
   "cell_type": "markdown",
   "id": "7322f3bb",
   "metadata": {},
   "source": [
    "#### 여러개 행 insert\n",
    "\n",
    "- executemany() 사용\n",
    "    - insert할 값들을 가진 리스트를 넣어 한번에 여러 행을 insert한다.\n"
   ]
  },
  {
   "cell_type": "code",
   "execution_count": 39,
   "id": "f72beeb1",
   "metadata": {},
   "outputs": [],
   "source": [
    "datas = [\n",
    "    [614847,18686570,2020],\n",
    "    [481692,19168262,2021],\n",
    "    [479713,19647975,2022],\n",
    "    [431319,20079294,2023],\n",
    "]"
   ]
  },
  {
   "cell_type": "code",
   "execution_count": 40,
   "id": "2792bae6",
   "metadata": {},
   "outputs": [
    {
     "name": "stdout",
     "output_type": "stream",
     "text": [
      "insert된 총 행수: 4\n"
     ]
    }
   ],
   "source": [
    "insert_sql = \"insert into test(증가량, 계, 년도) values(%s, %s, %s)\"\n",
    "with pymysql.connect(host=\"127.0.0.1\", port=3306, user='scott', password='tiger', db='Project') as conn:\n",
    "    with conn.cursor() as cursor:\n",
    "        cnt = cursor.executemany(insert_sql, datas)  # executemany() 결과 행수 반환.\n",
    "        conn.commit()\n",
    "\n",
    "print(\"insert된 총 행수:\", cnt)"
   ]
  },
  {
   "cell_type": "markdown",
   "id": "096891b8",
   "metadata": {},
   "source": [
    "## select (DQL - Data Query Language)\n",
    "\n",
    "-   조회결과 조회\n",
    "    -   cursor.execute(\"select문\") 실행 후 cursor의 결과 조회 메소드(fetch메소드)를 이용해 결과를 받는다.\n",
    "-   fetch메소드\n",
    "    -   **fetchall()**\n",
    "        -   조회한 모든 행을을 반환\n",
    "    -   **fetchmany(size=개수)**\n",
    "        -   전체 조회한 행들 중 지정한 size개수 만큼 반환.\n",
    "        -   연속적으로 실행하면 다음 size개수 만큼씩 반환한다.\n",
    "        -   더 이상 조회한 결과가 없으면 빈 튜플을 반환한다.\n",
    "    -   **fetchone()**\n",
    "        -   조회결과 중 첫번째 행만 반환\n",
    "        -   주로 pk 동등 조건으로 조회한 경우 사용\n"
   ]
  },
  {
   "cell_type": "markdown",
   "id": "524f4cb8",
   "metadata": {},
   "source": [
    "### fetchall()\n"
   ]
  },
  {
   "cell_type": "code",
   "execution_count": 41,
   "id": "93a06bf2",
   "metadata": {},
   "outputs": [
    {
     "name": "stdout",
     "output_type": "stream",
     "text": [
      "조회행수: 6\n"
     ]
    }
   ],
   "source": [
    "sql = \"select 증가량, 계, 년도 from test\" \n",
    "with pymysql.connect(host=\"127.0.0.1\", port=3306, user='scott', password='tiger', db='Project') as conn:\n",
    "    with conn.cursor() as cursor:\n",
    "        result = cursor.execute(sql)\n",
    "        print(\"조회행수:\", result)\n",
    "        resultset = cursor.fetchall()"
   ]
  },
  {
   "cell_type": "code",
   "execution_count": 42,
   "id": "82a62b01",
   "metadata": {},
   "outputs": [
    {
     "data": {
      "text/plain": [
       "((None, 17663188, 2018),\n",
       " (408535, 18071723, 2019),\n",
       " (614847, 18686570, 2020),\n",
       " (481692, 19168262, 2021),\n",
       " (479713, 19647975, 2022),\n",
       " (431319, 20079294, 2023))"
      ]
     },
     "execution_count": 42,
     "metadata": {},
     "output_type": "execute_result"
    }
   ],
   "source": [
    "resultset"
   ]
  },
  {
   "cell_type": "markdown",
   "id": "2be0cc74-4dbc-4964-b2f7-d897c9fe5ccd",
   "metadata": {},
   "source": [
    "### 조회결과를 dictionary로 반환\n",
    "- pymysql.cursors.DictCursor 사용\n",
    "    - Connection 생성시 또는 Cursor 생성시 지정한다.\n",
    "- key: 컬럼명, value: 컬럼값"
   ]
  },
  {
   "cell_type": "code",
   "execution_count": 45,
   "id": "bce604d1-9215-4afc-b54a-5ff44c82d488",
   "metadata": {},
   "outputs": [
    {
     "name": "stdout",
     "output_type": "stream",
     "text": [
      "조회행수: 6\n"
     ]
    }
   ],
   "source": [
    "sql = \"select 증가량, 계, 년도 from test\" \n",
    "with pymysql.connect(host=\"127.0.0.1\", port=3306, user='scott', password='tiger', db='Project') as conn:\n",
    "    with conn.cursor(pymysql.cursors.DictCursor) as cursor:  \n",
    "        result = cursor.execute(sql)\n",
    "        print(\"조회행수:\", result)\n",
    "        resultset = cursor.fetchall()"
   ]
  },
  {
   "cell_type": "code",
   "execution_count": 46,
   "id": "e04c153c-aad0-4b4a-92d3-a19ae9d9385d",
   "metadata": {},
   "outputs": [
    {
     "data": {
      "text/plain": [
       "[{'증가량': None, '계': 17663188, '년도': 2018},\n",
       " {'증가량': 408535, '계': 18071723, '년도': 2019},\n",
       " {'증가량': 614847, '계': 18686570, '년도': 2020},\n",
       " {'증가량': 481692, '계': 19168262, '년도': 2021},\n",
       " {'증가량': 479713, '계': 19647975, '년도': 2022},\n",
       " {'증가량': 431319, '계': 20079294, '년도': 2023}]"
      ]
     },
     "execution_count": 46,
     "metadata": {},
     "output_type": "execute_result"
    }
   ],
   "source": [
    "resultset"
   ]
  },
  {
   "cell_type": "markdown",
   "id": "b3a9867d",
   "metadata": {},
   "source": [
    "### fetchone()\n"
   ]
  },
  {
   "cell_type": "code",
   "execution_count": 53,
   "id": "97500b7b",
   "metadata": {},
   "outputs": [
    {
     "name": "stdout",
     "output_type": "stream",
     "text": [
      "조회행수: 1\n"
     ]
    }
   ],
   "source": [
    "sql = \"select * from test where 년도 = %s\" \n",
    "with pymysql.connect(host=\"127.0.0.1\", port=3306, user='scott', password='tiger', db='Project') as conn:\n",
    "    with conn.cursor() as cursor:\n",
    "        result = cursor.execute(sql, [2018]) # []안에 조회할 id(index)\n",
    "        print(\"조회행수:\", result)\n",
    "        resultset = cursor.fetchone()"
   ]
  },
  {
   "cell_type": "code",
   "execution_count": 51,
   "id": "b0eaf81d",
   "metadata": {},
   "outputs": [
    {
     "data": {
      "text/plain": [
       "(None, 17663188, 2018)"
      ]
     },
     "execution_count": 51,
     "metadata": {},
     "output_type": "execute_result"
    }
   ],
   "source": [
    "resultset"
   ]
  },
  {
   "cell_type": "markdown",
   "id": "cc8054bc",
   "metadata": {},
   "source": [
    "### fetchmany()\n"
   ]
  },
  {
   "cell_type": "code",
   "execution_count": 55,
   "id": "7d72f49c",
   "metadata": {},
   "outputs": [
    {
     "name": "stdout",
     "output_type": "stream",
     "text": [
      "조회행수: 6\n"
     ]
    }
   ],
   "source": [
    "sql = \"select 증가량, 계, 년도 from test\" \n",
    "with pymysql.connect(host=\"127.0.0.1\", port=3306, user='scott', password='tiger', db='Project') as conn:\n",
    "    with conn.cursor() as cursor:\n",
    "        result = cursor.execute(sql)\n",
    "        print(\"조회행수:\", result)\n",
    "        resultset1 = cursor.fetchmany(size=2)  # 처음 두개\n",
    "        resultset2 = cursor.fetchmany(size=2)  # 다음 두개\n",
    "        resultset3 = cursor.fetchmany(size=2)\n",
    "        resultset4 = cursor.fetchmany(size=2)"
   ]
  },
  {
   "cell_type": "code",
   "execution_count": 56,
   "id": "50fffed5",
   "metadata": {},
   "outputs": [
    {
     "name": "stdout",
     "output_type": "stream",
     "text": [
      "((None, 17663188, 2018), (408535, 18071723, 2019))\n",
      "((614847, 18686570, 2020), (481692, 19168262, 2021))\n",
      "((479713, 19647975, 2022), (431319, 20079294, 2023))\n",
      "()\n"
     ]
    }
   ],
   "source": [
    "print(resultset1)\n",
    "print(resultset2)\n",
    "print(resultset3)\n",
    "print(resultset4)"
   ]
  },
  {
   "cell_type": "markdown",
   "id": "fca900bd",
   "metadata": {},
   "source": [
    "### cursor 는 iterable 타입\n",
    "\n",
    "-   for in 문에 select query를 실행한 cursor를 사용하면 조회결과를 한 행씩 조회할 수 있다.\n"
   ]
  },
  {
   "cell_type": "code",
   "execution_count": 7,
   "id": "8332ff67",
   "metadata": {},
   "outputs": [
    {
     "name": "stdout",
     "output_type": "stream",
     "text": [
      "None , 17663188 , 2018\n",
      "408535 , 18071723 , 2019\n",
      "614847 , 18686570 , 2020\n",
      "481692 , 19168262 , 2021\n",
      "479713 , 19647975 , 2022\n",
      "431319 , 20079294 , 2023\n"
     ]
    }
   ],
   "source": [
    "sql = \"select * from test\" \n",
    "with pymysql.connect(host=\"127.0.0.1\", port=3306, user='scott', password='tiger', db='Project') as conn:\n",
    "    with conn.cursor() as cursor:\n",
    "        result = cursor.execute(sql)\n",
    "        for 증가량, 계, 년도 in cursor:\n",
    "            print(증가량, 계, 년도, sep=\" , \")"
   ]
  }
 ],
 "metadata": {
  "kernelspec": {
   "display_name": "Python 3 (ipykernel)",
   "language": "python",
   "name": "python3"
  },
  "language_info": {
   "codemirror_mode": {
    "name": "ipython",
    "version": 3
   },
   "file_extension": ".py",
   "mimetype": "text/x-python",
   "name": "python",
   "nbconvert_exporter": "python",
   "pygments_lexer": "ipython3",
   "version": "3.12.6"
  },
  "toc": {
   "base_numbering": 1,
   "nav_menu": {},
   "number_sections": false,
   "sideBar": true,
   "skip_h1_title": false,
   "title_cell": "Table of Contents",
   "title_sidebar": "Contents",
   "toc_cell": false,
   "toc_position": {},
   "toc_section_display": true,
   "toc_window_display": false
  },
  "varInspector": {
   "cols": {
    "lenName": 16,
    "lenType": 16,
    "lenVar": 40
   },
   "kernels_config": {
    "python": {
     "delete_cmd_postfix": "",
     "delete_cmd_prefix": "del ",
     "library": "var_list.py",
     "varRefreshCmd": "print(var_dic_list())"
    },
    "r": {
     "delete_cmd_postfix": ") ",
     "delete_cmd_prefix": "rm(",
     "library": "var_list.r",
     "varRefreshCmd": "cat(var_dic_list()) "
    }
   },
   "types_to_exclude": [
    "module",
    "function",
    "builtin_function_or_method",
    "instance",
    "_Feature"
   ],
   "window_display": false
  }
 },
 "nbformat": 4,
 "nbformat_minor": 5
}

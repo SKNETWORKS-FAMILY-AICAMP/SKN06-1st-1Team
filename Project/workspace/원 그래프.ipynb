{
 "cells": [
  {
   "cell_type": "code",
   "execution_count": 15,
   "metadata": {},
   "outputs": [],
   "source": [
    "import pandas as pd\n",
    "import matplotlib.pyplot as plt\n",
    "import matplotlib\n",
    "matplotlib.rcParams['font.family'] = 'Malgun Gothic' # windows\n",
    "matplotlib.rcParams['font.size'] = 15 # 글자 크기\n",
    "matplotlib.rcParams['axes.unicode_minus'] = False"
   ]
  },
  {
   "cell_type": "code",
   "execution_count": 20,
   "metadata": {},
   "outputs": [
    {
     "data": {
      "text/html": [
       "<div>\n",
       "<style scoped>\n",
       "    .dataframe tbody tr th:only-of-type {\n",
       "        vertical-align: middle;\n",
       "    }\n",
       "\n",
       "    .dataframe tbody tr th {\n",
       "        vertical-align: top;\n",
       "    }\n",
       "\n",
       "    .dataframe thead th {\n",
       "        text-align: right;\n",
       "    }\n",
       "</style>\n",
       "<table border=\"1\" class=\"dataframe\">\n",
       "  <thead>\n",
       "    <tr style=\"text-align: right;\">\n",
       "      <th></th>\n",
       "      <th>종류</th>\n",
       "      <th>2018</th>\n",
       "      <th>2019</th>\n",
       "      <th>2020</th>\n",
       "      <th>2021</th>\n",
       "      <th>2022</th>\n",
       "      <th>2023</th>\n",
       "      <th>2024</th>\n",
       "    </tr>\n",
       "  </thead>\n",
       "  <tbody>\n",
       "    <tr>\n",
       "      <th>0</th>\n",
       "      <td>전기</td>\n",
       "      <td>46038</td>\n",
       "      <td>80902</td>\n",
       "      <td>124409</td>\n",
       "      <td>201520</td>\n",
       "      <td>347395</td>\n",
       "      <td>501485</td>\n",
       "      <td>647446</td>\n",
       "    </tr>\n",
       "    <tr>\n",
       "      <th>1</th>\n",
       "      <td>천연가스</td>\n",
       "      <td>2094485</td>\n",
       "      <td>2045369</td>\n",
       "      <td>2028853</td>\n",
       "      <td>1989786</td>\n",
       "      <td>1950764</td>\n",
       "      <td>1879088</td>\n",
       "      <td>1878220</td>\n",
       "    </tr>\n",
       "    <tr>\n",
       "      <th>2</th>\n",
       "      <td>하이브리드</td>\n",
       "      <td>374666</td>\n",
       "      <td>476478</td>\n",
       "      <td>612577</td>\n",
       "      <td>844563</td>\n",
       "      <td>1103642</td>\n",
       "      <td>1434619</td>\n",
       "      <td>1878615</td>\n",
       "    </tr>\n",
       "    <tr>\n",
       "      <th>3</th>\n",
       "      <td>수소</td>\n",
       "      <td>466</td>\n",
       "      <td>3436</td>\n",
       "      <td>9494</td>\n",
       "      <td>17076</td>\n",
       "      <td>26719</td>\n",
       "      <td>33501</td>\n",
       "      <td>36979</td>\n",
       "    </tr>\n",
       "    <tr>\n",
       "      <th>4</th>\n",
       "      <td>기타</td>\n",
       "      <td>2</td>\n",
       "      <td>2</td>\n",
       "      <td>1</td>\n",
       "      <td>2</td>\n",
       "      <td>5</td>\n",
       "      <td>4</td>\n",
       "      <td>2</td>\n",
       "    </tr>\n",
       "  </tbody>\n",
       "</table>\n",
       "</div>"
      ],
      "text/plain": [
       "      종류     2018     2019     2020     2021     2022     2023     2024\n",
       "0     전기    46038    80902   124409   201520   347395   501485   647446\n",
       "1   천연가스  2094485  2045369  2028853  1989786  1950764  1879088  1878220\n",
       "2  하이브리드   374666   476478   612577   844563  1103642  1434619  1878615\n",
       "3     수소      466     3436     9494    17076    26719    33501    36979\n",
       "4     기타        2        2        1        2        5        4        2"
      ]
     },
     "execution_count": 20,
     "metadata": {},
     "output_type": "execute_result"
    }
   ],
   "source": [
    "df = pd.read_csv(r\"C:\\SKN06-1st-1Team-main\\Project\\data\\greenenergy_car.csv\")\n",
    "\n",
    "df.head()"
   ]
  },
  {
   "cell_type": "code",
   "execution_count": 23,
   "metadata": {},
   "outputs": [
    {
     "name": "stdout",
     "output_type": "stream",
     "text": [
      "36979\n",
      "4441262\n"
     ]
    }
   ],
   "source": [
    "H = df['2024'][3]\n",
    "V = df['2024'][5]\n",
    "print(H)\n",
    "print(V)"
   ]
  },
  {
   "cell_type": "code",
   "execution_count": 25,
   "metadata": {},
   "outputs": [
    {
     "data": {
      "image/png": "[encoded data removed]",
      "text/plain": [
       "<Figure size 640x480 with 1 Axes>"
      ]
     },
     "metadata": {},
     "output_type": "display_data"
    }
   ],
   "source": [
    "values = [H, V]\n",
    "labels = ['수소차', '전체 자량']\n",
    "\n",
    "plt.pie(values, labels=labels, autopct='%.1f%%', startangle=90, counterclock=False) \n",
    "plt.show()"
   ]
  }
 ],
 "metadata": {
  "kernelspec": {
   "display_name": "PROJECT",
   "language": "python",
   "name": "python3"
  },
  "language_info": {
   "codemirror_mode": {
    "name": "ipython",
    "version": 3
   },
   "file_extension": ".py",
   "mimetype": "text/x-python",
   "name": "python",
   "nbconvert_exporter": "python",
   "pygments_lexer": "ipython3",
   "version": "3.13.0"
  }
 },
 "nbformat": 4,
 "nbformat_minor": 2
}

{
 "cells": [
  {
   "cell_type": "code",
   "execution_count": 1,
   "id": "7d7bba09",
   "metadata": {},
   "outputs": [],
   "source": [
    "import pymysql\n",
    "import pandas as pd"
   ]
  },
  {
   "cell_type": "markdown",
   "id": "05fa80b8",
   "metadata": {},
   "source": [
    "## SQL Table을 .csv 파일로 저장"
   ]
  },
  {
   "cell_type": "code",
   "execution_count": 1,
   "id": "13b52a33",
   "metadata": {},
   "outputs": [
    {
     "name": "stderr",
     "output_type": "stream",
     "text": [
      "C:\\Users\\Playdata\\AppData\\Local\\Temp\\ipykernel_22688\\3073637955.py:13: UserWarning: pandas only supports SQLAlchemy connectable (engine/connection) or database string URI or sqlite3 DBAPI2 connection. Other DBAPI2 objects are not tested. Please consider using SQLAlchemy.\n",
      "  df = pd.read_sql(\"SELECT * FROM hydrogen_station\", connection)\n"
     ]
    }
   ],
   "source": [
    "# MySQL 연결 설정\n",
    "connection = pymysql.connect(\n",
    "    host=\"127.0.0.1\", \n",
    "    user='scott', \n",
    "    password='tiger', \n",
    "    db='project'\n",
    ")\n",
    "\n",
    "# SQL 쿼리 실행하여 데이터를 가져옴\n",
    "df = pd.read_sql(\"SELECT * FROM hydrogen_station\", connection)\n",
    "\n",
    "# 데이터를 CSV 파일로 저장\n",
    "df.to_csv(r'C:\\Project\\source\\hydrogen_station.csv', index=False, encoding='utf-8-sig')\n",
    "\n",
    "# 연결 닫기\n",
    "connection.close()"
   ]
  },
  {
   "cell_type": "markdown",
   "id": "7184d813",
   "metadata": {},
   "source": [
    "## CSV를 SQL Table로 변환"
   ]
  },
  {
   "cell_type": "code",
   "execution_count": 3,
   "id": "5825605d",
   "metadata": {},
   "outputs": [],
   "source": [
    "df = pd.read_csv(r\"C:\\Project\\data\\hydrogen_car.csv\")\n",
    "\n",
    "table_name = 'hydrogen_car'\n",
    "\n",
    "# SQL 파일에 INSERT INTO 문 생성 및 저장\n",
    "with open(r\"C:\\Project\\sql\\hydrogen_car.sql\", 'w', encoding='utf-8') as f:\n",
    "\n",
    "    # 테이블 생성 SQL 문을 생성하는 부분 (필요에 따라 수정)\n",
    "    create_table = f\"CREATE TABLE {table_name} (\\n\"\n",
    "    for column in df.columns:\n",
    "        create_table += f\"    {column} VARCHAR(255),\\n\"\n",
    "    create_table = create_table.rstrip(',\\n') + '\\n);\\n\\n'\n",
    "    f.write(create_table)\n",
    "\n",
    "    # INSERT INTO 문을 생성하여 SQL 파일에 추가\n",
    "    for i, row in df.iterrows():\n",
    "        sql = f\"INSERT INTO {table_name} ({', '.join(df.columns)}) VALUES (\"\n",
    "        sql += ', '.join([f\"'{str(x)}'\" if pd.notna(x) else 'NULL' for x in row.values])\n",
    "        sql += \");\\n\"\n",
    "        f.write(sql)"
   ]
  }
 ],
 "metadata": {
  "kernelspec": {
   "display_name": "PROJECT",
   "language": "python",
   "name": "python3"
  },
  "language_info": {
   "codemirror_mode": {
    "name": "ipython",
    "version": 3
   },
   "file_extension": ".py",
   "mimetype": "text/x-python",
   "name": "python",
   "nbconvert_exporter": "python",
   "pygments_lexer": "ipython3",
   "version": "3.13.0"
  },
  "toc": {
   "base_numbering": 1,
   "nav_menu": {},
   "number_sections": false,
   "sideBar": true,
   "skip_h1_title": false,
   "title_cell": "Table of Contents",
   "title_sidebar": "Contents",
   "toc_cell": false,
   "toc_position": {},
   "toc_section_display": true,
   "toc_window_display": false
  },
  "varInspector": {
   "cols": {
    "lenName": 16,
    "lenType": 16,
    "lenVar": 40
   },
   "kernels_config": {
    "python": {
     "delete_cmd_postfix": "",
     "delete_cmd_prefix": "del ",
     "library": "var_list.py",
     "varRefreshCmd": "print(var_dic_list())"
    },
    "r": {
     "delete_cmd_postfix": ") ",
     "delete_cmd_prefix": "rm(",
     "library": "var_list.r",
     "varRefreshCmd": "cat(var_dic_list()) "
    }
   },
   "types_to_exclude": [
    "module",
    "function",
    "builtin_function_or_method",
    "instance",
    "_Feature"
   ],
   "window_display": false
  }
 },
 "nbformat": 4,
 "nbformat_minor": 5
}

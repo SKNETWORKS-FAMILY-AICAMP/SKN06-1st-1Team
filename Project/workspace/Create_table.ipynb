{
 "cells": [
  {
   "cell_type": "markdown",
   "metadata": {},
   "source": [
    "## 테이블 생성"
   ]
  },
  {
   "cell_type": "code",
   "execution_count": null,
   "metadata": {},
   "outputs": [],
   "source": [
    "vehicle_registration = \"\"\"\n",
    "CREATE TABLE vehicle_registration (\n",
    "    증가량 INT,        -- Increase in the number of vehicles\n",
    "    계 INT NOT NULL,  -- Total number of vehicles\n",
    "    년도 YEAR NOT NULL PRIMARY KEY  -- Year (Primary Key)\n",
    ")\n",
    "\"\"\"   "
   ]
  },
  {
   "cell_type": "code",
   "execution_count": null,
   "metadata": {},
   "outputs": [],
   "source": [
    "hydrogen_station = \"\"\"\n",
    "CREATE TABLE hydrogen_station (\n",
    "    번호 INT NOT NULL,\n",
    "    구축연도 INT NOT NULL,\n",
    "    충전소명 VARCHAR(255) NOT NULL,\n",
    "    지역_대분류 VARCHAR(255) NOT NULL,\n",
    "    주소 VARCHAR(255) NOT NULL,\n",
    "    용도 VARCHAR(50) NOT NULL,\n",
    "    위도 DOUBLE NOT NULL,\n",
    "    경도 DOUBLE NOT NULL,\n",
    "    PRIMARY KEY (번호)\n",
    ") DEFAULT CHARSET=utf8mb4\n",
    "\"\"\""
   ]
  },
  {
   "cell_type": "code",
   "execution_count": null,
   "metadata": {},
   "outputs": [],
   "source": [
    "hydrogen_registration_year = \"\"\"\n",
    "CREATE TABLE hydrogen_station (\n",
    "    연도 INT NOT NULL,\n",
    "    등록수 INT NOT NULL,\n",
    "    전년 대비 증가량 INT NOT NULL,\n",
    ") DEFAULT CHARSET=utf8mb4\n",
    "\"\"\""
   ]
  },
  {
   "cell_type": "markdown",
   "metadata": {},
   "source": [
    "## Database와 연결"
   ]
  },
  {
   "cell_type": "code",
   "execution_count": null,
   "metadata": {},
   "outputs": [],
   "source": [
    "import pymysql # 이 모듈은 연결할 때만 사용\n",
    "try:\n",
    "    conn = None\n",
    "    \n",
    "    conn = pymysql.connect(\n",
    "        host=\"127.0.0.1\",    # DBMS 의 ip(host) : str\n",
    "        port=3306,           # DBMS의 port 번호: int\n",
    "        user=\"scott\",        # username: str\n",
    "        password=\"tiger\",    # password: str\n",
    "        db=\"Project\"            #  연결할 Database이름: str\n",
    "    )  # 연결 성공하면 연결된 DB와 관련 작업할 수있는 기능을 제공하는 Connection객체를 반환\n",
    "    \n",
    "    # 2. Connection을 사용해서 Cursor 객체 생성\n",
    "    #    Cursor: sql 처리를 하는 기능을 제공.( sql 전송하고 처리결과를 받을 때까지를 관리)\n",
    "    cursor = conn.cursor()\n",
    "        \n",
    "    # 3. SQL 문 전송\n",
    "    cursor.execute(\"drop table if exists customer\")\n",
    "    cursor.execute(create_sql)  # 여기 테이블 복붙\n",
    "    \n",
    "finally:\n",
    "    # 4. 연결닫기(끊기)\n",
    "    if conn:\n",
    "        cursor.close() # 4-1. cursor 연결 닫기\n",
    "        conn.close()  # 4-2. connection 연결 닫기"
   ]
  }
 ],
 "metadata": {
  "language_info": {
   "name": "python"
  }
 },
 "nbformat": 4,
 "nbformat_minor": 2
}
